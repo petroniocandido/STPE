{
  "nbformat": 4,
  "nbformat_minor": 0,
  "metadata": {
    "colab": {
      "name": "Séries Temporais e Processos Estocásticos - Vetores Aleatórios",
      "provenance": [],
      "authorship_tag": "ABX9TyM8zGGyTnGWlv9u9v89PJbB",
      "include_colab_link": true
    },
    "kernelspec": {
      "name": "python3",
      "display_name": "Python 3"
    },
    "language_info": {
      "name": "python"
    }
  },
  "cells": [
    {
      "cell_type": "markdown",
      "metadata": {
        "id": "view-in-github",
        "colab_type": "text"
      },
      "source": [
        "<a href=\"https://colab.research.google.com/github/petroniocandido/STPE/blob/main/S%C3%A9ries_Temporais_e_Processos_Estoc%C3%A1sticos_Vetores_Aleat%C3%B3rios.ipynb\" target=\"_parent\"><img src=\"https://colab.research.google.com/assets/colab-badge.svg\" alt=\"Open In Colab\"/></a>"
      ]
    },
    {
      "cell_type": "markdown",
      "metadata": {
        "id": "Ic73E32efD0g"
      },
      "source": [
        "# Vetores Aleatórios, Probabilidades e Momentos  Conjuntos e Condicionais\n",
        "**Disciplina:** Tópicos Especiais - Séries Temporais e Processos Estocásticos\n",
        "\n",
        "**Professor:** <a href=\"http://petroniocandido.github.io\"> Petrônio Cândido de Lima e Silva</a> <span itemscope itemtype=\"https://schema.org/Person\"><a itemprop=\"sameAs\" content=\"https://orcid.org/0000-0002-1202-2552\" href=\"https://orcid.org/0000-0002-1202-2552\" target=\"orcid.widget\" rel=\"noopener noreferrer\" style=\"vertical-align:top;\"><img src=\"https://orcid.org/sites/default/files/images/orcid_16x16.png\" style=\"width:1em;margin-right:.5em;\" alt=\"ORCID iD icon\"></a></span> (petronio.candido@ifnmg.edu.br)\n",
        "\n",
        "[![made-with-python](https://img.shields.io/badge/Made%20with-Python-1f425f.svg)](https://www.python.org/)  [![made-with-latex](https://img.shields.io/badge/Made%20with-LaTeX-1f425f.svg)](https://www.latex-project.org/) [![ForTheBadge built-with-love](http://ForTheBadge.com/images/badges/built-with-love.svg)](https://GitHub.com/Naereen/) [![ForTheBadge built-with-science](http://ForTheBadge.com/images/badges/built-with-science.svg)](https://GitHub.com/Naereen/)\n",
        "\n",
        "\n",
        "\n",
        "\n",
        "<center>\n",
        "  <table><tr>\n",
        "<td><a href=\"https://ppgmcs.com.br/\"><img src=\"https://ppgmcs.com.br/wp-content/uploads/ppgmcs.png\" alt=\"Programa de Pós-Graduação em Modelagem Computacional e Sistemas - PPGMCS/Unimontes\" height=\"60\" width=\"150\"/></a></td> \n",
        "\n",
        " <td>&nbsp;&nbsp;&nbsp;&nbsp;&nbsp;&nbsp;&nbsp;&nbsp;&nbsp;</td>\n",
        "\n",
        "<td><a href=\"#\"><img src=\"https://avatars1.githubusercontent.com/u/54992196?s=400&u=4c96d4fc0560b6957233f1dd91a9560de4a054b2&v=4\" alt=\"{cidic} - Grupo de Pesquisa em Ciência de Dados e Inteligência Computacional\" width=\"100\"/></a></td> \n",
        "\n",
        " <td>&nbsp;&nbsp;&nbsp;&nbsp;&nbsp;&nbsp;&nbsp;&nbsp;&nbsp;</td>\n",
        "  \n",
        "<td>\n",
        "   <a href=\"http://www.ifnmg.edu.br/\"><img src=\"https://github.com/petroniocandido/PhdThesis/raw/master/figures/ifnmg.jpg\" alt=\"IFNMG - Instituto Federal do Norte de Minas Gerais\" width=\"100\"/></a></td>\n",
        "</tr>\n",
        "</table>\n",
        "</center>\n",
        "\n",
        "[![licensebuttons by-nc-sa](https://licensebuttons.net/l/by-nc-sa/3.0/88x31.png)](https://creativecommons.org/licenses/by-nc-sa/4.0) "
      ]
    },
    {
      "cell_type": "code",
      "metadata": {
        "id": "Q5VrveFSe5-S"
      },
      "source": [
        "import numpy as np    \n",
        "from scipy import stats\n",
        "import matplotlib.pyplot as plt"
      ],
      "execution_count": null,
      "outputs": []
    },
    {
      "cell_type": "markdown",
      "metadata": {
        "id": "bSQcz7DJ56dv"
      },
      "source": [
        "## Vetores Aleatórios"
      ]
    },
    {
      "cell_type": "markdown",
      "metadata": {
        "id": "DF18jSlYiD_r"
      },
      "source": [
        "O vetor aleatóorio $V = [X_1, X_2, X_3]$ é definido sobre $\\Omega = \\{1,2,3,4,5,6\\}$, onde cada $X_i = f(Y_j)$ e $Y_i$ são $n$ variáveis aleatórias representando $n$ lançamentos de dados, definidas a seguir:\n",
        "\n",
        "* $X_1$ é a somatório de $Y_i$ tal que:\n",
        "$$X_1 = \\sum_{i=1}^n Y_i$$\n",
        "* $X_2$ é a contagem da quantidade de números pares em $Y_i$, tal que:\n",
        "$$X_2 = \\sum_{i=1}^n \\mathbb{1}(Y_i \\% 2 = 0)$$\n",
        "* $X_3$ é o contador de valores menores ou iguais à 3, tal que:\n",
        "$$X_3 = \\sum_{i=1}^n \\mathbb{1}(Y_i \\leq 3)$$"
      ]
    },
    {
      "cell_type": "code",
      "metadata": {
        "id": "smHnmRqVfSpT"
      },
      "source": [
        "def vetor_aleatorio(n, m):\n",
        "  X1 = []\n",
        "  X2 = []\n",
        "  X3 = []\n",
        "  for i in range(m):\n",
        "    soma = 0\n",
        "    paridade = 0\n",
        "    menor_igual = 0\n",
        "    for i in range(n):\n",
        "      va = np.random.randint(1, 7, 1)[0]\n",
        "      soma += va\n",
        "      paridade += 1 if va % 2 == 0 else 0\n",
        "      menor_igual += 1 if va <= 3 else 0\n",
        "    X1.append(soma)\n",
        "    X2.append(paridade)\n",
        "    X3.append(menor_igual)\n",
        "  return X1, X2, X3"
      ],
      "execution_count": null,
      "outputs": []
    },
    {
      "cell_type": "code",
      "metadata": {
        "colab": {
          "base_uri": "https://localhost:8080/",
          "height": 369
        },
        "id": "8ki9rh1YfyBv",
        "outputId": "368e01d4-9c9f-4056-d026-22c614a400ee"
      },
      "source": [
        "n = 10\n",
        "m = 1000\n",
        "X1, X2, X3 = vetor_aleatorio(n,m)\n",
        "\n",
        "fig, ax = plt.subplots(nrows=3, ncols=2, figsize=[5,5])\n",
        "\n",
        "ax[0][0].scatter(X1, X2)\n",
        "ax[0][0].set_title(\"$X_1$ e $X_2$\")\n",
        "ax[0][1].scatter(X1, X3)\n",
        "ax[0][1].set_title(\"$X_1$ e $X_3$\")\n",
        "ax[1][0].scatter(X2, X1)\n",
        "ax[1][0].set_title(\"$X_2$ e $X_1$\")\n",
        "ax[1][1].scatter(X2, X3)\n",
        "ax[1][1].set_title(\"$X_2$ e $X_3$\")\n",
        "ax[2][0].scatter(X3, X1)\n",
        "ax[2][0].set_title(\"$X_3$ e $X_1$\")\n",
        "ax[2][1].scatter(X3, X2)\n",
        "ax[2][1].set_title(\"$X_3$ e $X_2$\")\n",
        "\n",
        "plt.tight_layout()"
      ],
      "execution_count": null,
      "outputs": [
        {
          "output_type": "display_data",
          "data": {
            "image/png": "[encoded data removed]",
            "text/plain": [
              "<Figure size 360x360 with 6 Axes>"
            ]
          },
          "metadata": {
            "needs_background": "light"
          }
        }
      ]
    },
    {
      "cell_type": "markdown",
      "metadata": {
        "id": "xWAfnhAH5-G0"
      },
      "source": [
        "## Probabilidades Marginais ou Probabilidade Incondicional"
      ]
    },
    {
      "cell_type": "code",
      "metadata": {
        "id": "cPaOeIBnf06B"
      },
      "source": [
        "def prob_marg(X):\n",
        "  X_range = [k for k in range(np.min(X), np.max(X)+1)]\n",
        "  pX = {k:0 for k in X_range}\n",
        "  m = len(X)\n",
        "  for i in range(m):\n",
        "    pX[X[i]] += 1\n",
        "  for k in X_range:\n",
        "    pX[k] /= m\n",
        "  return pX\n",
        "\n"
      ],
      "execution_count": null,
      "outputs": []
    },
    {
      "cell_type": "code",
      "metadata": {
        "colab": {
          "base_uri": "https://localhost:8080/",
          "height": 225
        },
        "id": "1DH367yyk1l3",
        "outputId": "1cbd9edf-4cfe-4d71-e8de-694d80fe1970"
      },
      "source": [
        "fig, ax = plt.subplots(nrows=1, ncols=3, figsize=[10,3])\n",
        "                       \n",
        "px1 = prob_marg(X1)\n",
        "ax[0].vlines([k for k in px1.keys()], [0 for k in px1.keys()], [v for v in px1.values()])\n",
        "ax[0].set_title(\"$P(X_1)$\")\n",
        "\n",
        "px2 = prob_marg(X2)\n",
        "ax[1].vlines([k for k in px2.keys()], [0 for k in px2.keys()], [v for v in px2.values()])\n",
        "ax[1].set_title(\"$P(X_2)$\")\n",
        "\n",
        "px3 = prob_marg(X3)\n",
        "ax[2].vlines([k for k in px3.keys()], [0 for k in px3.keys()], [v for v in px3.values()])\n",
        "ax[2].set_title(\"$P(X_3)$\")\n",
        "\n",
        "plt.tight_layout()"
      ],
      "execution_count": null,
      "outputs": [
        {
          "output_type": "display_data",
          "data": {
            "image/png": "[encoded data removed]",
            "text/plain": [
              "<Figure size 720x216 with 3 Axes>"
            ]
          },
          "metadata": {
            "needs_background": "light"
          }
        }
      ]
    },
    {
      "cell_type": "markdown",
      "metadata": {
        "id": "JP-GlL7Y7b8P"
      },
      "source": [
        "## Probabilidades Conjuntas\n",
        "\n",
        "$$P(X,Y) = \\frac{ |X \\cap Y|}{|F|}$$"
      ]
    },
    {
      "cell_type": "code",
      "metadata": {
        "id": "0kbVKxbf7fGB"
      },
      "source": [
        "def prob_conj(X,Y):\n",
        "  X_range = [k for k in range(np.min(X), np.max(X)+1)]\n",
        "  Y_range = [k for k in range(np.min(Y), np.max(Y)+1)]\n",
        "  pconj_X_Y = np.zeros((len(X_range), len(Y_range)))\n",
        "  m = len(X)\n",
        "  for i in range(m):\n",
        "    x = X[i]\n",
        "    y = Y[i]\n",
        "    pconj_X_Y[ X_range.index(x) ][ Y_range.index(y) ] += 1\n",
        "\n",
        "  pconj_X_Y /= m\n",
        "  return pconj_X_Y, X_range, Y_range"
      ],
      "execution_count": null,
      "outputs": []
    },
    {
      "cell_type": "code",
      "metadata": {
        "colab": {
          "base_uri": "https://localhost:8080/",
          "height": 513
        },
        "id": "P8MZCH-zpIyx",
        "outputId": "70b2e378-72dd-45c5-f0d5-626100bf670c"
      },
      "source": [
        "fig, ax = plt.subplots(nrows=1, ncols=1, figsize=[7,7])\n",
        "\n",
        "pxy, xl, yl = prob_conj(X1,X2)\n",
        "\n",
        "im = ax.matshow(pxy, cmap='Blues')\n",
        "ax.set_xlabel(\"$X_2$\")\n",
        "ax.set_ylabel(\"$X_1$\")\n",
        "_ = ax.set_xticks([k for k in range(len(yl))])\n",
        "_ = ax.set_xticklabels(yl)\n",
        "_ = ax.set_yticks([k for k in range(len(xl))])\n",
        "_ = ax.set_yticklabels(xl)\n",
        "#for i in range(len(xl)):\n",
        "#    for j in range(len(yl)):\n",
        "#        text = ax.text(j, i, round(pxy[i, j], 2),\n",
        "#                       ha=\"center\", va=\"center\", color=\"w\")\n",
        "fig.colorbar(im)\n",
        "\n",
        "plt.tight_layout()"
      ],
      "execution_count": null,
      "outputs": [
        {
          "output_type": "display_data",
          "data": {
            "image/png": "[encoded data removed]",
            "text/plain": [
              "<Figure size 504x504 with 2 Axes>"
            ]
          },
          "metadata": {
            "needs_background": "light"
          }
        }
      ]
    },
    {
      "cell_type": "code",
      "metadata": {
        "colab": {
          "base_uri": "https://localhost:8080/"
        },
        "id": "Phbgz69DNg7K",
        "outputId": "06683385-1df0-4fbf-d541-5104f04e62ce"
      },
      "source": [
        "px1[34]"
      ],
      "execution_count": null,
      "outputs": [
        {
          "output_type": "execute_result",
          "data": {
            "text/plain": [
              "0.069"
            ]
          },
          "metadata": {},
          "execution_count": 115
        }
      ]
    },
    {
      "cell_type": "code",
      "metadata": {
        "colab": {
          "base_uri": "https://localhost:8080/"
        },
        "id": "w1JyR6A9M-v9",
        "outputId": "85913d18-88b6-4851-b3bd-dd7b120ad0d7"
      },
      "source": [
        "ix34 = xl.index(34)\n",
        "px34 = np.sum([ pxy[ix34][j] for j in range(len(yl)) ])\n",
        "px34"
      ],
      "execution_count": null,
      "outputs": [
        {
          "output_type": "execute_result",
          "data": {
            "text/plain": [
              "0.069"
            ]
          },
          "metadata": {},
          "execution_count": 116
        }
      ]
    },
    {
      "cell_type": "markdown",
      "metadata": {
        "id": "z129aXEIsRf4"
      },
      "source": [
        "## Momentos Conjuntos\n",
        "\n",
        "$$\\mathbb{E}[g(X,Y)] = \\sum_{x_i \\in \\Omega}\\sum_{y_j \\in \\Omega} g(x_i, y_j) \\cdot P(x_i, y_j)$$\n",
        "\n",
        "$$\\mathbb{Var}[X,Y] = \\mathbb{E}_{XY}[ (X - \\mathbb{E}[X])(Y - \\mathbb{E}[Y]) ]$$"
      ]
    },
    {
      "cell_type": "code",
      "metadata": {
        "id": "qN5xbDd-pY1U"
      },
      "source": [
        "def E(X):\n",
        "  px = prob_marg(X)\n",
        "  return np.sum([k*v for k,v in px.items()])\n",
        "\n",
        "def Var(X):\n",
        "  mx = E(X)\n",
        "  px = prob_marg(X)\n",
        "  return np.sum([((k-mx)**2)*v for k,v in px.items()])"
      ],
      "execution_count": null,
      "outputs": []
    },
    {
      "cell_type": "code",
      "metadata": {
        "colab": {
          "base_uri": "https://localhost:8080/"
        },
        "id": "QL-C4nADORaB",
        "outputId": "503f6f31-c653-488a-ef00-4886940f6c76"
      },
      "source": [
        "V = [ E(X1), E(X2), E(X3)]\n",
        "V"
      ],
      "execution_count": null,
      "outputs": [
        {
          "output_type": "execute_result",
          "data": {
            "text/plain": [
              "[34.86600000000001, 4.981999999999999, 5.064]"
            ]
          },
          "metadata": {},
          "execution_count": 117
        }
      ]
    },
    {
      "cell_type": "code",
      "metadata": {
        "colab": {
          "base_uri": "https://localhost:8080/"
        },
        "id": "k-C8hRdSIWG-",
        "outputId": "89720340-11e8-4ef8-8023-961974a14f66"
      },
      "source": [
        "mx = E(X3)\n",
        "px = prob_marg(X3)\n",
        "[((k-mx)**2) *v for k,v in px.items()]"
      ],
      "execution_count": null,
      "outputs": [
        {
          "output_type": "execute_result",
          "data": {
            "text/plain": [
              "[0.6360555555555556,\n",
              " 0.32938888888888884,\n",
              " 0.32725925925925914,\n",
              " 0.0909814814814814,\n",
              " 0.04381481481481486,\n",
              " 0.273925925925926,\n",
              " 0.1973703703703704,\n",
              " 0.785851851851852,\n",
              " 0.32757407407407413]"
            ]
          },
          "metadata": {},
          "execution_count": 64
        }
      ]
    },
    {
      "cell_type": "code",
      "metadata": {
        "id": "8yQV7DVAIfk2"
      },
      "source": [
        "def Cov(X, Y):\n",
        "  mx = E(X)\n",
        "  my = E(Y)\n",
        "  pxy, xr, yr = prob_conj(X, Y)\n",
        "  cov = 0\n",
        "  for i, xi in enumerate(xr):\n",
        "    for j, yj in enumerate(yr):\n",
        "      cov += ((xi - mx) * (yj - my)) * pxy[i][j]\n",
        "  return cov "
      ],
      "execution_count": null,
      "outputs": []
    },
    {
      "cell_type": "code",
      "metadata": {
        "colab": {
          "base_uri": "https://localhost:8080/"
        },
        "id": "RCWrpiYAq8Tq",
        "outputId": "ef5f3816-781d-4d48-8b0e-bc2de75f1994"
      },
      "source": [
        "Cov(X1, X3)"
      ],
      "execution_count": null,
      "outputs": [
        {
          "output_type": "execute_result",
          "data": {
            "text/plain": [
              "-7.727424000000003"
            ]
          },
          "metadata": {},
          "execution_count": 122
        }
      ]
    },
    {
      "cell_type": "code",
      "metadata": {
        "id": "oA-m3I-WrbH1"
      },
      "source": [
        "def corr(X,Y):\n",
        "  return  Cov(X,Y) / (Var(X) * Var(Y)) "
      ],
      "execution_count": null,
      "outputs": []
    },
    {
      "cell_type": "code",
      "metadata": {
        "colab": {
          "base_uri": "https://localhost:8080/"
        },
        "id": "vKxRoel3rwZh",
        "outputId": "fc87faff-e1ba-4379-a514-077f06d015de"
      },
      "source": [
        "corr(X1, X1)"
      ],
      "execution_count": null,
      "outputs": [
        {
          "output_type": "execute_result",
          "data": {
            "text/plain": [
              "0.033523249244955866"
            ]
          },
          "metadata": {},
          "execution_count": 125
        }
      ]
    },
    {
      "cell_type": "markdown",
      "metadata": {
        "id": "kmgA35nW7hAu"
      },
      "source": [
        "## Probabilidades Condicionais\n",
        "\n",
        "$$P(X | Y) = \\frac{P(X,Y)}{P(Y)}$$"
      ]
    },
    {
      "cell_type": "code",
      "metadata": {
        "id": "69fa_0rxp1HE"
      },
      "source": [
        "def prob_cond(X, Y):\n",
        "  pY = prob_marg(Y)\n",
        "  pconj_X_Y, xr, yr = prob_conj(X, Y) \n",
        "  pcond_X_Y = np.zeros((len(xr), len(yr)))\n",
        "  for i, xi in enumerate(xr):\n",
        "    for j, yj in enumerate(yr):\n",
        "      pcond_X_Y[i][j] = pconj_X_Y[i][j] / pY[yj]\n",
        "  return pcond_X_Y, xr, yr\n"
      ],
      "execution_count": null,
      "outputs": []
    },
    {
      "cell_type": "code",
      "metadata": {
        "colab": {
          "base_uri": "https://localhost:8080/",
          "height": 493
        },
        "id": "m2OdDGO7qPsV",
        "outputId": "cd1f85e1-4f12-452a-f3ce-8947dd3a4247"
      },
      "source": [
        "fig, ax = plt.subplots(nrows=1, ncols=1, figsize=[15,7])\n",
        "\n",
        "pcxy, xl, yl = prob_cond(X3, X1)\n",
        "\n",
        "im = ax.matshow(pcxy, cmap='Blues')\n",
        "_ = ax.set_xticks([k for k in range(len(yl))])\n",
        "_ = ax.set_xticklabels(yl)\n",
        "_ = ax.set_yticks([k for k in range(len(xl))])\n",
        "_ = ax.set_yticklabels(xl)\n",
        "fig.colorbar(im)"
      ],
      "execution_count": null,
      "outputs": [
        {
          "output_type": "stream",
          "text": [
            "/usr/local/lib/python3.7/dist-packages/ipykernel_launcher.py:7: RuntimeWarning: invalid value encountered in double_scalars\n",
            "  import sys\n"
          ],
          "name": "stderr"
        },
        {
          "output_type": "execute_result",
          "data": {
            "text/plain": [
              "<matplotlib.colorbar.Colorbar at 0x7fc60eec8390>"
            ]
          },
          "metadata": {},
          "execution_count": 132
        },
        {
          "output_type": "display_data",
          "data": {
            "image/png": "[encoded data removed]",
            "text/plain": [
              "<Figure size 1080x504 with 2 Axes>"
            ]
          },
          "metadata": {
            "needs_background": "light"
          }
        }
      ]
    },
    {
      "cell_type": "markdown",
      "metadata": {
        "id": "uj7NT_9QsU53"
      },
      "source": [
        "## Momentos Condicionais\n",
        "\n",
        "$$\\mathbb{E}[X|y_j] = \\sum_{x_i \\in \\Omega} x_i \\cdot P(x_i | y_j)$$"
      ]
    },
    {
      "cell_type": "code",
      "metadata": {
        "id": "ee_yfef2sXJ3"
      },
      "source": [
        "def E_cond(X, Y):\n",
        "  pcond_X_Y, xr, yr = prob_cond(X,Y)\n",
        "  e_cond = np.zeros(len(yr))\n",
        "  for j, yj in enumerate(yr):\n",
        "    e_cond[j] = np.sum([xi * pcond_X_Y[i][j] \n",
        "                        for i, xi in enumerate(xr)])\n",
        "  return e_cond, xr, yr\n",
        "\n"
      ],
      "execution_count": null,
      "outputs": []
    },
    {
      "cell_type": "code",
      "metadata": {
        "colab": {
          "base_uri": "https://localhost:8080/",
          "height": 227
        },
        "id": "4i4KEjGiNdDH",
        "outputId": "9c6373ea-68dd-4b5e-ddef-b63b41bc3c4e"
      },
      "source": [
        "fig, ax = plt.subplots(nrows=1, ncols=1, figsize=[10,3])\n",
        "\n",
        "ecxy, xl, yl = E_cond(X1, X3)\n",
        "\n",
        "ax.vlines([i for i in yl],[0 for i in yl], ecxy)\n",
        "_ = ax.set_xlabel(\"$Y$\")\n",
        "_ = ax.set_ylabel(\"$\\mathbb{E}[X|Y]$\")"
      ],
      "execution_count": null,
      "outputs": [
        {
          "output_type": "display_data",
          "data": {
            "image/png": "[encoded data removed]",
            "text/plain": [
              "<Figure size 720x216 with 1 Axes>"
            ]
          },
          "metadata": {
            "needs_background": "light"
          }
        }
      ]
    },
    {
      "cell_type": "code",
      "metadata": {
        "colab": {
          "base_uri": "https://localhost:8080/"
        },
        "id": "26PTlrjONejl",
        "outputId": "17eee501-f962-4d61-89f3-8f4fa92a571e"
      },
      "source": [
        "ecxy"
      ],
      "execution_count": null,
      "outputs": [
        {
          "output_type": "execute_result",
          "data": {
            "text/plain": [
              "array([19.33333333, 17.        , 18.8       , 19.66666667, 21.        ])"
            ]
          },
          "metadata": {},
          "execution_count": 21
        }
      ]
    },
    {
      "cell_type": "code",
      "metadata": {
        "id": "Sb-PbcEHOpC-"
      },
      "source": [
        ""
      ],
      "execution_count": null,
      "outputs": []
    }
  ]
}